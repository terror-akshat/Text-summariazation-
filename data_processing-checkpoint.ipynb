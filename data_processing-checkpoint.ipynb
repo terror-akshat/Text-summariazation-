{
 "cells": [
  {
   "cell_type": "code",
   "execution_count": 1,
   "id": "26027529-806b-403b-930e-3d7771194c03",
   "metadata": {},
   "outputs": [],
   "source": [
    "text = \"Written collaboratively by largely anonymous volunteers known as Wikipedians, Wikipedia articles can be edited by anyone with Internet access, except in limited cases where editing is restricted to prevent disruption or vandalism. Since its creation on January 15, 2001, it has grown into the world's largest reference website, attracting over a billion visitors each month. Wikipedia currently has more than sixty-three million articles in more than 300 languages, including 6,886,397 articles in English, with 116,686 active contributors in the past month.Wikipedias fundamental principles are summarized in its five pillars. While the Wikipedia community has developed many policies and guidelines, new editors do not need to be familiar with them before they start contributing.\""
   ]
  },
  {
   "cell_type": "code",
   "execution_count": 2,
   "id": "ab9b6ccc-c880-4bcc-9276-7e1e2c7f2c6b",
   "metadata": {},
   "outputs": [
    {
     "data": {
      "text/plain": [
       "782"
      ]
     },
     "execution_count": 2,
     "metadata": {},
     "output_type": "execute_result"
    }
   ],
   "source": [
    "len(text)"
   ]
  },
  {
   "cell_type": "code",
   "execution_count": 3,
   "id": "9ce2eddd-b2e1-4706-bd8d-750564935cfb",
   "metadata": {},
   "outputs": [
    {
     "name": "stdout",
     "output_type": "stream",
     "text": [
      "Requirement already satisfied: spacy in c:\\users\\akshat agarwal\\anaconda3\\lib\\site-packages (3.7.6)\n",
      "Requirement already satisfied: spacy-legacy<3.1.0,>=3.0.11 in c:\\users\\akshat agarwal\\anaconda3\\lib\\site-packages (from spacy) (3.0.12)\n",
      "Requirement already satisfied: spacy-loggers<2.0.0,>=1.0.0 in c:\\users\\akshat agarwal\\anaconda3\\lib\\site-packages (from spacy) (1.0.5)\n",
      "Requirement already satisfied: murmurhash<1.1.0,>=0.28.0 in c:\\users\\akshat agarwal\\anaconda3\\lib\\site-packages (from spacy) (1.0.10)\n",
      "Requirement already satisfied: cymem<2.1.0,>=2.0.2 in c:\\users\\akshat agarwal\\anaconda3\\lib\\site-packages (from spacy) (2.0.8)\n",
      "Requirement already satisfied: preshed<3.1.0,>=3.0.2 in c:\\users\\akshat agarwal\\anaconda3\\lib\\site-packages (from spacy) (3.0.9)\n",
      "Requirement already satisfied: thinc<8.3.0,>=8.2.2 in c:\\users\\akshat agarwal\\anaconda3\\lib\\site-packages (from spacy) (8.2.5)\n",
      "Requirement already satisfied: wasabi<1.2.0,>=0.9.1 in c:\\users\\akshat agarwal\\anaconda3\\lib\\site-packages (from spacy) (1.1.3)\n",
      "Requirement already satisfied: srsly<3.0.0,>=2.4.3 in c:\\users\\akshat agarwal\\anaconda3\\lib\\site-packages (from spacy) (2.4.8)\n",
      "Requirement already satisfied: catalogue<2.1.0,>=2.0.6 in c:\\users\\akshat agarwal\\anaconda3\\lib\\site-packages (from spacy) (2.0.10)\n",
      "Requirement already satisfied: weasel<0.5.0,>=0.1.0 in c:\\users\\akshat agarwal\\anaconda3\\lib\\site-packages (from spacy) (0.4.1)\n",
      "Requirement already satisfied: typer<1.0.0,>=0.3.0 in c:\\users\\akshat agarwal\\anaconda3\\lib\\site-packages (from spacy) (0.12.5)\n",
      "Requirement already satisfied: tqdm<5.0.0,>=4.38.0 in c:\\users\\akshat agarwal\\anaconda3\\lib\\site-packages (from spacy) (4.66.4)\n",
      "Requirement already satisfied: requests<3.0.0,>=2.13.0 in c:\\users\\akshat agarwal\\anaconda3\\lib\\site-packages (from spacy) (2.32.2)\n",
      "Requirement already satisfied: pydantic!=1.8,!=1.8.1,<3.0.0,>=1.7.4 in c:\\users\\akshat agarwal\\anaconda3\\lib\\site-packages (from spacy) (1.10.18)\n",
      "Requirement already satisfied: jinja2 in c:\\users\\akshat agarwal\\anaconda3\\lib\\site-packages (from spacy) (3.1.2)\n",
      "Requirement already satisfied: setuptools in c:\\users\\akshat agarwal\\anaconda3\\lib\\site-packages (from spacy) (69.5.1)\n",
      "Requirement already satisfied: packaging>=20.0 in c:\\users\\akshat agarwal\\anaconda3\\lib\\site-packages (from spacy) (23.2)\n",
      "Requirement already satisfied: langcodes<4.0.0,>=3.2.0 in c:\\users\\akshat agarwal\\anaconda3\\lib\\site-packages (from spacy) (3.4.0)\n",
      "Requirement already satisfied: numpy>=1.19.0 in c:\\users\\akshat agarwal\\anaconda3\\lib\\site-packages (from spacy) (1.26.4)\n",
      "Requirement already satisfied: language-data>=1.2 in c:\\users\\akshat agarwal\\anaconda3\\lib\\site-packages (from langcodes<4.0.0,>=3.2.0->spacy) (1.2.0)\n",
      "Requirement already satisfied: typing-extensions>=4.2.0 in c:\\users\\akshat agarwal\\anaconda3\\lib\\site-packages (from pydantic!=1.8,!=1.8.1,<3.0.0,>=1.7.4->spacy) (4.11.0)\n",
      "Requirement already satisfied: charset-normalizer<4,>=2 in c:\\users\\akshat agarwal\\anaconda3\\lib\\site-packages (from requests<3.0.0,>=2.13.0->spacy) (2.0.4)\n",
      "Requirement already satisfied: idna<4,>=2.5 in c:\\users\\akshat agarwal\\anaconda3\\lib\\site-packages (from requests<3.0.0,>=2.13.0->spacy) (3.7)\n",
      "Requirement already satisfied: urllib3<3,>=1.21.1 in c:\\users\\akshat agarwal\\anaconda3\\lib\\site-packages (from requests<3.0.0,>=2.13.0->spacy) (2.2.2)\n",
      "Requirement already satisfied: certifi>=2017.4.17 in c:\\users\\akshat agarwal\\anaconda3\\lib\\site-packages (from requests<3.0.0,>=2.13.0->spacy) (2024.6.2)\n",
      "Requirement already satisfied: blis<0.8.0,>=0.7.8 in c:\\users\\akshat agarwal\\anaconda3\\lib\\site-packages (from thinc<8.3.0,>=8.2.2->spacy) (0.7.11)\n",
      "Requirement already satisfied: confection<1.0.0,>=0.0.1 in c:\\users\\akshat agarwal\\anaconda3\\lib\\site-packages (from thinc<8.3.0,>=8.2.2->spacy) (0.1.5)\n",
      "Requirement already satisfied: colorama in c:\\users\\akshat agarwal\\anaconda3\\lib\\site-packages (from tqdm<5.0.0,>=4.38.0->spacy) (0.4.6)\n",
      "Requirement already satisfied: click>=8.0.0 in c:\\users\\akshat agarwal\\anaconda3\\lib\\site-packages (from typer<1.0.0,>=0.3.0->spacy) (8.1.7)\n",
      "Requirement already satisfied: shellingham>=1.3.0 in c:\\users\\akshat agarwal\\anaconda3\\lib\\site-packages (from typer<1.0.0,>=0.3.0->spacy) (1.5.4)\n",
      "Requirement already satisfied: rich>=10.11.0 in c:\\users\\akshat agarwal\\anaconda3\\lib\\site-packages (from typer<1.0.0,>=0.3.0->spacy) (13.3.5)\n",
      "Requirement already satisfied: cloudpathlib<1.0.0,>=0.7.0 in c:\\users\\akshat agarwal\\anaconda3\\lib\\site-packages (from weasel<0.5.0,>=0.1.0->spacy) (0.19.0)\n",
      "Requirement already satisfied: smart-open<8.0.0,>=5.2.1 in c:\\users\\akshat agarwal\\anaconda3\\lib\\site-packages (from weasel<0.5.0,>=0.1.0->spacy) (5.2.1)\n",
      "Requirement already satisfied: MarkupSafe>=2.0 in c:\\users\\akshat agarwal\\anaconda3\\lib\\site-packages (from jinja2->spacy) (2.1.3)\n",
      "Requirement already satisfied: marisa-trie>=0.7.7 in c:\\users\\akshat agarwal\\anaconda3\\lib\\site-packages (from language-data>=1.2->langcodes<4.0.0,>=3.2.0->spacy) (1.2.0)\n",
      "Requirement already satisfied: markdown-it-py<3.0.0,>=2.2.0 in c:\\users\\akshat agarwal\\anaconda3\\lib\\site-packages (from rich>=10.11.0->typer<1.0.0,>=0.3.0->spacy) (2.2.0)\n",
      "Requirement already satisfied: pygments<3.0.0,>=2.13.0 in c:\\users\\akshat agarwal\\anaconda3\\lib\\site-packages (from rich>=10.11.0->typer<1.0.0,>=0.3.0->spacy) (2.15.1)\n",
      "Requirement already satisfied: mdurl~=0.1 in c:\\users\\akshat agarwal\\anaconda3\\lib\\site-packages (from markdown-it-py<3.0.0,>=2.2.0->rich>=10.11.0->typer<1.0.0,>=0.3.0->spacy) (0.1.0)\n",
      "Note: you may need to restart the kernel to use updated packages.\n"
     ]
    }
   ],
   "source": [
    "pip install spacy"
   ]
  },
  {
   "cell_type": "code",
   "execution_count": 7,
   "id": "2eade5d1-076d-4fb5-92de-7763f015f0a0",
   "metadata": {},
   "outputs": [],
   "source": [
    "import spacy\n",
    "from spacy.lang.en.stop_words import STOP_WORDS\n",
    "from string import punctuation"
   ]
  },
  {
   "cell_type": "code",
   "execution_count": 8,
   "id": "a557465b-9de2-4063-9806-527886c4c66c",
   "metadata": {},
   "outputs": [],
   "source": [
    "nlp = spacy.load('en_core_web_sm')"
   ]
  },
  {
   "cell_type": "code",
   "execution_count": 9,
   "id": "a3f36ec7-8a11-40a9-ae8e-f244a475a738",
   "metadata": {},
   "outputs": [
    {
     "data": {
      "text/plain": [
       "Written collaboratively by largely anonymous volunteers known as Wikipedians, Wikipedia articles can be edited by anyone with Internet access, except in limited cases where editing is restricted to prevent disruption or vandalism. Since its creation on January 15, 2001, it has grown into the world's largest reference website, attracting over a billion visitors each month. Wikipedia currently has more than sixty-three million articles in more than 300 languages, including 6,886,397 articles in English, with 116,686 active contributors in the past month.Wikipedias fundamental principles are summarized in its five pillars. While the Wikipedia community has developed many policies and guidelines, new editors do not need to be familiar with them before they start contributing."
      ]
     },
     "execution_count": 9,
     "metadata": {},
     "output_type": "execute_result"
    }
   ],
   "source": [
    "nlp(text)"
   ]
  },
  {
   "cell_type": "code",
   "execution_count": 10,
   "id": "d28edbeb-4fe2-427a-a319-4add740955a9",
   "metadata": {},
   "outputs": [],
   "source": [
    "doc = nlp(text)\n"
   ]
  },
  {
   "cell_type": "code",
   "execution_count": 11,
   "id": "d5c4ec6f-007a-409e-936b-6efa53004346",
   "metadata": {},
   "outputs": [],
   "source": [
    "tokens = [token.text.lower() for token in doc if not token.is_stop and not token.is_punct and token.text!= \"\\n\"]"
   ]
  },
  {
   "cell_type": "code",
   "execution_count": 12,
   "id": "d3e9b461-0518-46aa-82f1-a4e733dd21de",
   "metadata": {},
   "outputs": [
    {
     "data": {
      "text/plain": [
       "['written',\n",
       " 'collaboratively',\n",
       " 'largely',\n",
       " 'anonymous',\n",
       " 'volunteers',\n",
       " 'known',\n",
       " 'wikipedians',\n",
       " 'wikipedia',\n",
       " 'articles',\n",
       " 'edited',\n",
       " 'internet',\n",
       " 'access',\n",
       " 'limited',\n",
       " 'cases',\n",
       " 'editing',\n",
       " 'restricted',\n",
       " 'prevent',\n",
       " 'disruption',\n",
       " 'vandalism',\n",
       " 'creation',\n",
       " 'january',\n",
       " '15',\n",
       " '2001',\n",
       " 'grown',\n",
       " 'world',\n",
       " 'largest',\n",
       " 'reference',\n",
       " 'website',\n",
       " 'attracting',\n",
       " 'billion',\n",
       " 'visitors',\n",
       " 'month',\n",
       " 'wikipedia',\n",
       " 'currently',\n",
       " 'million',\n",
       " 'articles',\n",
       " '300',\n",
       " 'languages',\n",
       " 'including',\n",
       " '6,886,397',\n",
       " 'articles',\n",
       " 'english',\n",
       " '116,686',\n",
       " 'active',\n",
       " 'contributors',\n",
       " 'past',\n",
       " 'month',\n",
       " 'wikipedias',\n",
       " 'fundamental',\n",
       " 'principles',\n",
       " 'summarized',\n",
       " 'pillars',\n",
       " 'wikipedia',\n",
       " 'community',\n",
       " 'developed',\n",
       " 'policies',\n",
       " 'guidelines',\n",
       " 'new',\n",
       " 'editors',\n",
       " 'need',\n",
       " 'familiar',\n",
       " 'start',\n",
       " 'contributing']"
      ]
     },
     "execution_count": 12,
     "metadata": {},
     "output_type": "execute_result"
    }
   ],
   "source": [
    "tokens"
   ]
  },
  {
   "cell_type": "code",
   "execution_count": 13,
   "id": "a5025168-5775-4b47-a2b9-0353ed8b758c",
   "metadata": {},
   "outputs": [],
   "source": [
    " from collections import Counter\n"
   ]
  },
  {
   "cell_type": "code",
   "execution_count": 14,
   "id": "b66f625b-0225-4f7d-9d5d-6970cde40cbc",
   "metadata": {},
   "outputs": [
    {
     "data": {
      "text/plain": [
       "Counter({'wikipedia': 3,\n",
       "         'articles': 3,\n",
       "         'month': 2,\n",
       "         'written': 1,\n",
       "         'collaboratively': 1,\n",
       "         'largely': 1,\n",
       "         'anonymous': 1,\n",
       "         'volunteers': 1,\n",
       "         'known': 1,\n",
       "         'wikipedians': 1,\n",
       "         'edited': 1,\n",
       "         'internet': 1,\n",
       "         'access': 1,\n",
       "         'limited': 1,\n",
       "         'cases': 1,\n",
       "         'editing': 1,\n",
       "         'restricted': 1,\n",
       "         'prevent': 1,\n",
       "         'disruption': 1,\n",
       "         'vandalism': 1,\n",
       "         'creation': 1,\n",
       "         'january': 1,\n",
       "         '15': 1,\n",
       "         '2001': 1,\n",
       "         'grown': 1,\n",
       "         'world': 1,\n",
       "         'largest': 1,\n",
       "         'reference': 1,\n",
       "         'website': 1,\n",
       "         'attracting': 1,\n",
       "         'billion': 1,\n",
       "         'visitors': 1,\n",
       "         'currently': 1,\n",
       "         'million': 1,\n",
       "         '300': 1,\n",
       "         'languages': 1,\n",
       "         'including': 1,\n",
       "         '6,886,397': 1,\n",
       "         'english': 1,\n",
       "         '116,686': 1,\n",
       "         'active': 1,\n",
       "         'contributors': 1,\n",
       "         'past': 1,\n",
       "         'wikipedias': 1,\n",
       "         'fundamental': 1,\n",
       "         'principles': 1,\n",
       "         'summarized': 1,\n",
       "         'pillars': 1,\n",
       "         'community': 1,\n",
       "         'developed': 1,\n",
       "         'policies': 1,\n",
       "         'guidelines': 1,\n",
       "         'new': 1,\n",
       "         'editors': 1,\n",
       "         'need': 1,\n",
       "         'familiar': 1,\n",
       "         'start': 1,\n",
       "         'contributing': 1})"
      ]
     },
     "execution_count": 14,
     "metadata": {},
     "output_type": "execute_result"
    }
   ],
   "source": [
    "Counter(tokens)"
   ]
  },
  {
   "cell_type": "code",
   "execution_count": 15,
   "id": "3a970808-6de6-4359-a3fc-ddf811281fa5",
   "metadata": {},
   "outputs": [],
   "source": [
    "  word_freq = Counter(tokens)"
   ]
  },
  {
   "cell_type": "code",
   "execution_count": 16,
   "id": "a515e598-45c9-43e6-b494-241f35c652db",
   "metadata": {},
   "outputs": [],
   "source": [
    "max_freq = max(word_freq.values())"
   ]
  },
  {
   "cell_type": "code",
   "execution_count": 17,
   "id": "7ddc35c0-8c95-4871-a174-bf01ca2003c9",
   "metadata": {},
   "outputs": [
    {
     "data": {
      "text/plain": [
       "3"
      ]
     },
     "execution_count": 17,
     "metadata": {},
     "output_type": "execute_result"
    }
   ],
   "source": [
    "max_freq"
   ]
  },
  {
   "cell_type": "code",
   "execution_count": 18,
   "id": "f1b675e4-44ab-4fbd-a61c-eb8e52d79001",
   "metadata": {},
   "outputs": [],
   "source": [
    "for word in word_freq.keys():\n",
    "    word_freq[word] = word_freq[word]/max_freq"
   ]
  },
  {
   "cell_type": "code",
   "execution_count": 19,
   "id": "88d0cbca-401e-4033-a08d-984b605e6d86",
   "metadata": {},
   "outputs": [
    {
     "data": {
      "text/plain": [
       "Counter({'wikipedia': 1.0,\n",
       "         'articles': 1.0,\n",
       "         'month': 0.6666666666666666,\n",
       "         'written': 0.3333333333333333,\n",
       "         'collaboratively': 0.3333333333333333,\n",
       "         'largely': 0.3333333333333333,\n",
       "         'anonymous': 0.3333333333333333,\n",
       "         'volunteers': 0.3333333333333333,\n",
       "         'known': 0.3333333333333333,\n",
       "         'wikipedians': 0.3333333333333333,\n",
       "         'edited': 0.3333333333333333,\n",
       "         'internet': 0.3333333333333333,\n",
       "         'access': 0.3333333333333333,\n",
       "         'limited': 0.3333333333333333,\n",
       "         'cases': 0.3333333333333333,\n",
       "         'editing': 0.3333333333333333,\n",
       "         'restricted': 0.3333333333333333,\n",
       "         'prevent': 0.3333333333333333,\n",
       "         'disruption': 0.3333333333333333,\n",
       "         'vandalism': 0.3333333333333333,\n",
       "         'creation': 0.3333333333333333,\n",
       "         'january': 0.3333333333333333,\n",
       "         '15': 0.3333333333333333,\n",
       "         '2001': 0.3333333333333333,\n",
       "         'grown': 0.3333333333333333,\n",
       "         'world': 0.3333333333333333,\n",
       "         'largest': 0.3333333333333333,\n",
       "         'reference': 0.3333333333333333,\n",
       "         'website': 0.3333333333333333,\n",
       "         'attracting': 0.3333333333333333,\n",
       "         'billion': 0.3333333333333333,\n",
       "         'visitors': 0.3333333333333333,\n",
       "         'currently': 0.3333333333333333,\n",
       "         'million': 0.3333333333333333,\n",
       "         '300': 0.3333333333333333,\n",
       "         'languages': 0.3333333333333333,\n",
       "         'including': 0.3333333333333333,\n",
       "         '6,886,397': 0.3333333333333333,\n",
       "         'english': 0.3333333333333333,\n",
       "         '116,686': 0.3333333333333333,\n",
       "         'active': 0.3333333333333333,\n",
       "         'contributors': 0.3333333333333333,\n",
       "         'past': 0.3333333333333333,\n",
       "         'wikipedias': 0.3333333333333333,\n",
       "         'fundamental': 0.3333333333333333,\n",
       "         'principles': 0.3333333333333333,\n",
       "         'summarized': 0.3333333333333333,\n",
       "         'pillars': 0.3333333333333333,\n",
       "         'community': 0.3333333333333333,\n",
       "         'developed': 0.3333333333333333,\n",
       "         'policies': 0.3333333333333333,\n",
       "         'guidelines': 0.3333333333333333,\n",
       "         'new': 0.3333333333333333,\n",
       "         'editors': 0.3333333333333333,\n",
       "         'need': 0.3333333333333333,\n",
       "         'familiar': 0.3333333333333333,\n",
       "         'start': 0.3333333333333333,\n",
       "         'contributing': 0.3333333333333333})"
      ]
     },
     "execution_count": 19,
     "metadata": {},
     "output_type": "execute_result"
    }
   ],
   "source": [
    "word_freq"
   ]
  },
  {
   "cell_type": "code",
   "execution_count": 20,
   "id": "4d8a3da0-4783-430a-af90-88c04acbe07f",
   "metadata": {},
   "outputs": [],
   "source": [
    "sent_toekn = [sent.text for sent in doc.sents]"
   ]
  },
  {
   "cell_type": "code",
   "execution_count": 21,
   "id": "148ad491-e959-4541-b751-1021e2ea818e",
   "metadata": {},
   "outputs": [
    {
     "data": {
      "text/plain": [
       "['Written collaboratively by largely anonymous volunteers known as Wikipedians, Wikipedia articles can be edited by anyone with Internet access, except in limited cases where editing is restricted to prevent disruption or vandalism.',\n",
       " \"Since its creation on January 15, 2001, it has grown into the world's largest reference website, attracting over a billion visitors each month.\",\n",
       " 'Wikipedia currently has more than sixty-three million articles in more than 300 languages, including 6,886,397 articles in English, with 116,686 active contributors in the past month.',\n",
       " 'Wikipedias fundamental principles are summarized in its five pillars.',\n",
       " 'While the Wikipedia community has developed many policies and guidelines, new editors do not need to be familiar with them before they start contributing.']"
      ]
     },
     "execution_count": 21,
     "metadata": {},
     "output_type": "execute_result"
    }
   ],
   "source": [
    "sent_toekn"
   ]
  },
  {
   "cell_type": "code",
   "execution_count": 22,
   "id": "dfbadc72-de41-49a8-9197-54283b30fc75",
   "metadata": {},
   "outputs": [
    {
     "name": "stdout",
     "output_type": "stream",
     "text": [
      "{'Written collaboratively by largely anonymous volunteers known as Wikipedians, Wikipedia articles can be edited by anyone with Internet access, except in limited cases where editing is restricted to prevent disruption or vandalism.': 4.999999999999999, \"Since its creation on January 15, 2001, it has grown into the world's largest reference website, attracting over a billion visitors each month.\": 2.333333333333333, 'Wikipedia currently has more than sixty-three million articles in more than 300 languages, including 6,886,397 articles in English, with 116,686 active contributors in the past month.': 4.999999999999999, 'Wikipedias fundamental principles are summarized in its five pillars.': 1.0, 'While the Wikipedia community has developed many policies and guidelines, new editors do not need to be familiar with them before they start contributing.': 2.6666666666666665}\n"
     ]
    }
   ],
   "source": [
    "sent_score = {}\n",
    "for sent in sent_toekn:\n",
    "    for word in sent.split():\n",
    "        if word in word_freq:\n",
    "            if sent not in sent_score:\n",
    "                sent_score[sent] = word_freq[word]  # Initialize score\n",
    "            else:\n",
    "                sent_score[sent] += word_freq[word]  # Increment score\n",
    "print(sent_score)\n"
   ]
  },
  {
   "cell_type": "code",
   "execution_count": 23,
   "id": "bdfdd470-9973-477c-ac8e-ca09f0a23ab4",
   "metadata": {},
   "outputs": [],
   "source": [
    "import pandas as pd"
   ]
  },
  {
   "cell_type": "code",
   "execution_count": 24,
   "id": "6b2c912a-81c7-491f-af75-ad3a6a45a367",
   "metadata": {},
   "outputs": [
    {
     "data": {
      "text/html": [
       "<div>\n",
       "<style scoped>\n",
       "    .dataframe tbody tr th:only-of-type {\n",
       "        vertical-align: middle;\n",
       "    }\n",
       "\n",
       "    .dataframe tbody tr th {\n",
       "        vertical-align: top;\n",
       "    }\n",
       "\n",
       "    .dataframe thead th {\n",
       "        text-align: right;\n",
       "    }\n",
       "</style>\n",
       "<table border=\"1\" class=\"dataframe\">\n",
       "  <thead>\n",
       "    <tr style=\"text-align: right;\">\n",
       "      <th></th>\n",
       "      <th>Sentence</th>\n",
       "      <th>Score</th>\n",
       "    </tr>\n",
       "  </thead>\n",
       "  <tbody>\n",
       "    <tr>\n",
       "      <th>0</th>\n",
       "      <td>Written collaboratively by largely anonymous v...</td>\n",
       "      <td>5.000000</td>\n",
       "    </tr>\n",
       "    <tr>\n",
       "      <th>1</th>\n",
       "      <td>Since its creation on January 15, 2001, it has...</td>\n",
       "      <td>2.333333</td>\n",
       "    </tr>\n",
       "    <tr>\n",
       "      <th>2</th>\n",
       "      <td>Wikipedia currently has more than sixty-three ...</td>\n",
       "      <td>5.000000</td>\n",
       "    </tr>\n",
       "    <tr>\n",
       "      <th>3</th>\n",
       "      <td>Wikipedias fundamental principles are summariz...</td>\n",
       "      <td>1.000000</td>\n",
       "    </tr>\n",
       "    <tr>\n",
       "      <th>4</th>\n",
       "      <td>While the Wikipedia community has developed ma...</td>\n",
       "      <td>2.666667</td>\n",
       "    </tr>\n",
       "  </tbody>\n",
       "</table>\n",
       "</div>"
      ],
      "text/plain": [
       "                                            Sentence     Score\n",
       "0  Written collaboratively by largely anonymous v...  5.000000\n",
       "1  Since its creation on January 15, 2001, it has...  2.333333\n",
       "2  Wikipedia currently has more than sixty-three ...  5.000000\n",
       "3  Wikipedias fundamental principles are summariz...  1.000000\n",
       "4  While the Wikipedia community has developed ma...  2.666667"
      ]
     },
     "execution_count": 24,
     "metadata": {},
     "output_type": "execute_result"
    }
   ],
   "source": [
    "pd.DataFrame(list(sent_score.items()),columns = ['Sentence','Score'])"
   ]
  },
  {
   "cell_type": "code",
   "execution_count": 25,
   "id": "26605290-5e42-4d88-a668-8d648361ff55",
   "metadata": {},
   "outputs": [],
   "source": [
    "from heapq import nlargest"
   ]
  },
  {
   "cell_type": "code",
   "execution_count": 26,
   "id": "9067cc67-4a00-4a74-8d4c-6539ea031708",
   "metadata": {},
   "outputs": [],
   "source": [
    "num_sentences = 3\n",
    "n=nlargest(num_sentences,sent_score, key=sent_score.get)\n"
   ]
  },
  {
   "cell_type": "code",
   "execution_count": 27,
   "id": "c87d85e8-5c26-4de7-8e74-2c6a45222022",
   "metadata": {},
   "outputs": [
    {
     "data": {
      "text/plain": [
       "'Written collaboratively by largely anonymous volunteers known as Wikipedians, Wikipedia articles can be edited by anyone with Internet access, except in limited cases where editing is restricted to prevent disruption or vandalism. Wikipedia currently has more than sixty-three million articles in more than 300 languages, including 6,886,397 articles in English, with 116,686 active contributors in the past month. While the Wikipedia community has developed many policies and guidelines, new editors do not need to be familiar with them before they start contributing.'"
      ]
     },
     "execution_count": 27,
     "metadata": {},
     "output_type": "execute_result"
    }
   ],
   "source": [
    "\" \".join(n)"
   ]
  },
  {
   "cell_type": "code",
   "execution_count": 28,
   "id": "41b75493-32c7-4ff9-a31c-c54df72e906c",
   "metadata": {},
   "outputs": [],
   "source": [
    "import tkinter as tk\n",
    "from tkinter import scrolledtext\n",
    "from tkinter import messagebox\n",
    "from tkinter import END\n",
    "\n",
    "# Importing the summarization code\n",
    "import spacy\n",
    "from spacy.lang.en.stop_words import STOP_WORDS\n",
    "from string import punctuation\n",
    "from collections import Counter\n",
    "from heapq import nlargest\n",
    "\n",
    "def summarize_text():\n",
    "    # Get text from the text box\n",
    "    text = text_box.get(\"1.0\", \"end-1c\")\n",
    "    \n",
    "    # Loading spaCy model\n",
    "    nlp = spacy.load('en_core_web_sm')\n",
    "    \n",
    "    # Tokenization and removing stopwords\n",
    "    doc = nlp(text)\n",
    "    tokens = [token.text.lower() for token in doc \n",
    "              if not token.is_stop and not token.is_punct and token.text != '\\n']\n",
    "\n",
    "    # Calculating word frequency\n",
    "    word_freq = Counter(tokens)\n",
    "    if not word_freq:\n",
    "        messagebox.showerror(\"Error\", \"No words found in the text.\")\n",
    "        return\n",
    "    \n",
    "    max_freq = max(word_freq.values())\n",
    "    for word in word_freq.keys():\n",
    "        word_freq[word] = word_freq[word]/max_freq\n",
    "    \n",
    "    # Sentence tokenization\n",
    "    sent_token = [sent.text for sent in doc.sents]\n",
    "\n",
    "    sent_score = {}\n",
    "    for sent in sent_token:\n",
    "        for word in sent.split():\n",
    "            if word.lower() in word_freq.keys():\n",
    "                if sent not in sent_score.keys():\n",
    "                    sent_score[sent] = word_freq[word]\n",
    "                else:\n",
    "                    sent_score[sent] += word_freq[word]\n",
    "\n",
    "    # Select top-scoring sentences based on user input\n",
    "    num_sentences = int(num_sentences_entry.get())\n",
    "    summarized_sentences = nlargest(num_sentences, sent_score, key=sent_score.get)\n",
    "\n",
    "    # Display summarized text in the result box\n",
    "    result_box.delete(1.0, END)\n",
    "    result_box.insert(END, \" \".join(summarized_sentences))\n",
    "\n",
    "# GUI setup\n",
    "root = tk.Tk()\n",
    "root.title(\"Text Summarizer\")\n",
    "\n",
    "# Text box for input\n",
    "text_box = scrolledtext.ScrolledText(root, width=50, height=10, wrap=tk.WORD)\n",
    "text_box.pack(pady=10)\n",
    "\n",
    "# Entry field for the number of sentences\n",
    "num_sentences_label = tk.Label(root, text=\"Number of Sentences:\")\n",
    "num_sentences_label.pack()\n",
    "num_sentences_entry = tk.Entry(root, width=10)\n",
    "num_sentences_entry.insert(END, \"3\")  # Default value\n",
    "num_sentences_entry.pack()\n",
    "\n",
    "# Button to summarize\n",
    "summarize_button = tk.Button(root, text=\"Summarize\", command=summarize_text)\n",
    "summarize_button.pack(pady=5)\n",
    "\n",
    "# Result box for output\n",
    "result_box = scrolledtext.ScrolledText(root, width=50, height=5, wrap=tk.WORD)\n",
    "result_box.pack(pady=10)\n",
    "\n",
    "root.mainloop()"
   ]
  },
  {
   "cell_type": "code",
   "execution_count": 29,
   "id": "cf0a90bc-eee0-4b69-8a15-1747dcd8db15",
   "metadata": {},
   "outputs": [
    {
     "name": "stdout",
     "output_type": "stream",
     "text": [
      "Requirement already satisfied: pipline in c:\\users\\akshat agarwal\\anaconda3\\lib\\site-packages (0.0)\n",
      "Note: you may need to restart the kernel to use updated packages.\n"
     ]
    }
   ],
   "source": [
    "pip install pipline "
   ]
  },
  {
   "cell_type": "code",
   "execution_count": 30,
   "id": "613cafbc-269d-497b-a519-fcbf14aece87",
   "metadata": {},
   "outputs": [],
   "source": [
    "from transformers import pipeline"
   ]
  },
  {
   "cell_type": "code",
   "execution_count": null,
   "id": "4b55e090-8589-4f88-8cc9-f1590df86ebc",
   "metadata": {},
   "outputs": [
    {
     "data": {
      "application/vnd.jupyter.widget-view+json": {
       "model_id": "f8f2483cf2a14490a2239bfa8e9c6c91",
       "version_major": 2,
       "version_minor": 0
      },
      "text/plain": [
       "model.safetensors:   5%|4         | 41.9M/892M [00:00<?, ?B/s]"
      ]
     },
     "metadata": {},
     "output_type": "display_data"
    },
    {
     "name": "stderr",
     "output_type": "stream",
     "text": [
      "Error while downloading from https://cdn-lfs.huggingface.co/t5-base/a90903540cc02cbeb7ff9f823f1a80eb778c7e22426a0e620b01c77a5ec8f5b4?response-content-disposition=inline%3B+filename*%3DUTF-8%27%27model.safetensors%3B+filename%3D%22model.safetensors%22%3B&Expires=1727428433&Policy=eyJTdGF0ZW1lbnQiOlt7IkNvbmRpdGlvbiI6eyJEYXRlTGVzc1RoYW4iOnsiQVdTOkVwb2NoVGltZSI6MTcyNzQyODQzM319LCJSZXNvdXJjZSI6Imh0dHBzOi8vY2RuLWxmcy5odWdnaW5nZmFjZS5jby90NS1iYXNlL2E5MDkwMzU0MGNjMDJjYmViN2ZmOWY4MjNmMWE4MGViNzc4YzdlMjI0MjZhMGU2MjBiMDFjNzdhNWVjOGY1YjQ%7EcmVzcG9uc2UtY29udGVudC1kaXNwb3NpdGlvbj0qIn1dfQ__&Signature=L1Cz5kHyjGAI0rsB31CM6tdae2Ni-rtulX6%7Ez77neRrGG-U8pQ9YCfmmBLwQXKgAoevbiHRRtCeoLDwYhD7iCZLJmNfE8KdfoqhGJrAFWFUXwkMaOhBTz-GpD4LUH9aTkgwcqJAYynoyqU8xc8N2uI3RgYDSWvkVjgOOtXtZmGVrVTTb15%7ERda4p2gDbhvMN4tdVE8uFuy8pv4g49iipgUtJCItARLhponjT02kh9RlTY6I0%7EcomX0btIVA8f4Xe6-sx4OmTSAQCoF8ENvNw1Gs87TsdLJ-H%7ETXQm9w6TC1JusrOX3ZGtqcElagoPsmD8mxmxSL2JFM7ZBBVTKm1HQ__&Key-Pair-Id=K3ESJI6DHPFC7: HTTPSConnectionPool(host='cdn-lfs.huggingface.co', port=443): Read timed out.\n",
      "Trying to resume download...\n"
     ]
    }
   ],
   "source": [
    "summarizer =pipeline(\"summarization\", model=\"t5-base\", tokenizers =\"th-base\", framework=\"pt\")"
   ]
  },
  {
   "cell_type": "code",
   "execution_count": null,
   "id": "12eab696-6261-40d5-8373-e9634572c91f",
   "metadata": {},
   "outputs": [],
   "source": [
    "text=\"\"\"In a world often dominated by negativity, it's important to remember the power of kindness and compassion. Small acts of kindness have the ability to brighten someone's day, uplift spirits, and create a ripple effect of positivity that can spread far and wide. Whether it's a smile to a stranger, a helping hand to a friend in need, or a thoughtful gesture to a colleague, every act of kindness has the potential to make a difference in someone's life.Beyond individual actions, there is also immense power in collective efforts to create positive change. When communities come together to support one another, incredible things can happen. From grassroots initiatives to global movements, people are uniting to tackle pressing social and environmental issues, driving meaningful progress and inspiring hope for a better future.It's also important to recognize the strength that lies within each and every one of us. We all have the ability to make a positive impact, no matter how small our actions may seem. By tapping into our innate compassion and empathy, we can cultivate a culture of kindness and empathy that enriches our lives and those around us.So let's embrace the power of kindness, and strive to make the world a better place one small act at a time. Together, we can create a brighter, more compassionate future for all.\"\"\""
   ]
  },
  {
   "cell_type": "code",
   "execution_count": null,
   "id": "fa0b00d4-2c36-42e8-afc7-a1ec577c4580",
   "metadata": {},
   "outputs": [],
   "source": [
    "text"
   ]
  },
  {
   "cell_type": "code",
   "execution_count": null,
   "id": "336dbff6-991f-42cd-aaa3-f741b494bf17",
   "metadata": {},
   "outputs": [],
   "source": [
    "summary = summarizer(text,max_length=100,min_length=10,do_sample=False)"
   ]
  },
  {
   "cell_type": "code",
   "execution_count": null,
   "id": "26e82206-a8c9-4914-bac0-52a9349e4776",
   "metadata": {},
   "outputs": [],
   "source": [
    "print(summary[0]['summary_text'])"
   ]
  },
  {
   "cell_type": "code",
   "execution_count": null,
   "id": "dbad7f99-241b-4aae-866b-42ab5473d666",
   "metadata": {},
   "outputs": [],
   "source": [
    "import tkinter as tk\n",
    "from transformers import pipeline\n",
    "\n",
    "def summarize_text():\n",
    "    # Get text from the input text box\n",
    "    text = text_entry.get(\"1.0\", \"end-1c\")\n",
    "\n",
    "    # Summarize the text\n",
    "    summary = summarizer(text, max_length=100, min_length=10, do_sample=False)\n",
    "\n",
    "    # Update the output text box with the summary\n",
    "    output_text.delete(\"1.0\", \"end\")\n",
    "    output_text.insert(\"1.0\", summary[0]['summary_text'])\n",
    "\n",
    "# Create a Tkinter window\n",
    "window = tk.Tk()\n",
    "window.title(\"Text Summarizer\")\n",
    "\n",
    "# Create input text box\n",
    "text_entry = tk.Text(window, height=10, width=60)\n",
    "text_entry.pack(pady=10)\n",
    "\n",
    "# Create a button to trigger text summarization\n",
    "summarize_button = tk.Button(window, text=\"Summarize\", command=summarize_text)\n",
    "summarize_button.pack()\n",
    "\n",
    "# Create output text box\n",
    "output_text = tk.Text(window, height=10, width=60)\n",
    "output_text.pack(pady=10)\n",
    "\n",
    "# Initialize the summarizer pipeline\n",
    "summarizer = pipeline(\"summarization\", model=\"t5-base\", tokenizer=\"t5-base\", framework=\"pt\")\n",
    "\n",
    "# Run the Tkinter event loop\n",
    "window.mainloop()"
   ]
  },
  {
   "cell_type": "code",
   "execution_count": null,
   "id": "49bfbc54-6425-4865-8845-4f7b782a6268",
   "metadata": {},
   "outputs": [],
   "source": []
  },
  {
   "cell_type": "code",
   "execution_count": null,
   "id": "2bdcd099-086c-4a13-9f7e-7b211b3e2a6a",
   "metadata": {},
   "outputs": [],
   "source": []
  },
  {
   "cell_type": "code",
   "execution_count": null,
   "id": "b1137c2e-66d6-472e-8694-fd4d99164f8d",
   "metadata": {},
   "outputs": [],
   "source": []
  }
 ],
 "metadata": {
  "kernelspec": {
   "display_name": "Python 3 (ipykernel)",
   "language": "python",
   "name": "python3"
  },
  "language_info": {
   "codemirror_mode": {
    "name": "ipython",
    "version": 3
   },
   "file_extension": ".py",
   "mimetype": "text/x-python",
   "name": "python",
   "nbconvert_exporter": "python",
   "pygments_lexer": "ipython3",
   "version": "3.12.4"
  }
 },
 "nbformat": 4,
 "nbformat_minor": 5
}
